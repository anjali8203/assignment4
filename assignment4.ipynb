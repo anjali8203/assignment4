{
 "cells": [
  {
   "cell_type": "markdown",
   "metadata": {},
   "source": [
    "# Assignment #4: Linear Models and Decision Trees\n",
    "## Foundations of Machine Learning\n",
    "## Do Q1 and one other question.\n",
    "### Advice: Reuse your code and code from lectures, package routine tasks into functions, make plans about how you'll carry out the analysis before jumping into writing code, and work as efficiently as possible"
   ]
  },
  {
   "cell_type": "markdown",
   "metadata": {},
   "source": [
    "**Q1.** This question is a case study for linear models and decision trees. The data are about car prices. In particular, they include:\n",
    "\n",
    "  - `Price`, `Color`, `Seating_Capacity`\n",
    "  - `Body_Type`: crossover, hatchback, muv, sedan, suv \n",
    "  - `Make`, `Make_Year`: The brand of car and year produced\n",
    "  - `Mileage_Run`: The number of miles on the odometer\n",
    "  - `Fuel_Type`: Diesel or gasoline/petrol\n",
    "  - `Transmission`, `Transmission_Type`:  speeds and automatic/manual\n",
    "\n",
    "  1. Load `cars_hw.csv`. These data were really dirty, and I've already cleaned them a significant amount in terms of missing values and other issues, but some issues remain (e.g. outliers, badly scaled variables that require a log or arcsinh transformation). Clean the data however you think is most appropriate.\n",
    "  2. Summarize the `Price` variable and create a kernel density plot. Use `.groupby()` and `.describe()` to summarize prices by brand (`Make`). Make a grouped kernel density plot by `Make`. Which car brands are the most expensive? What do prices look like in general?\n",
    "  3. Split the data into an 80% training set and a 20% testing set.\n",
    "  4. Let's focus on linear models. Make a model where you regress price on the numeric variables alone; what is the $R^2$ and `RMSE` on the test set? Make a second model where, for the categorical variables, make a model comprised of one-hot encoded regressors/features alone, and regress price on those variables; what is the $R^2$ and `RMSE` on the test set? Which model performs better on the test set? Make a third model that combines all the regressors from the previous two; what is the $R^2$ and `RMSE` on the test set? Does the joint model perform better or worse, and by home much?\n",
    "  5. Use the `PolynomialFeatures` function from `sklearn` to expand the set of numerical variables you're using, along with the categorical variables. As you increase the degree of the expansion, how do the $R^2$ and `RMSE` change? At what point does $R^2$ go negative on the test set? For your best model with expanded features, what is the $R^2$ and `RMSE`? How does it compare to your best model from part 3?\n",
    "  6. For your best model so far, determine the predicted values for the test data and plot them against the true values. Do the predicted values and true values roughly line up along the diagonal, or not? Compute the residuals/errors for the test data and create a kernel density plot. Do the residuals look roughly bell-shaped around zero? Evaluate the strengths and weaknesses of your model.\n",
    "  7. Now, let's use a regression tree. Construct an appropriate matrix of regressors/features, and fit a tree to the data. Vary the maximum depth of the decision tree using the `max_depth` option (i.e. `tree.DecisionTreeRegressor(max_depth=D)`), and compute the $R^2$ and `RMSE` on the test set of a variety of depths. What depth tree gives the best results?\n",
    "  8. For your best tree, determine the predicted values for the test data, and plot them against the true values. Do the predicted values and true values line up along the diagonal, or not? Compute the residuals/errors for the test data and create a kernel density plot. Do the residuals look roughly bell-shaped around zero?\n",
    "  12. Which model --- linear model or classification and regression tree --- has better performance on the test set?"
   ]
  },
  {
   "cell_type": "code",
   "execution_count": 84,
   "metadata": {},
   "outputs": [],
   "source": [
    "# import statements \n",
    "import pandas as pd\n",
    "from sklearn.model_selection import train_test_split\n",
    "import numpy as np \n",
    "import matplotlib.pyplot as plt\n",
    "import seaborn as sns\n",
    "from sklearn.neighbors import KNeighborsClassifier"
   ]
  },
  {
   "cell_type": "code",
   "execution_count": 85,
   "metadata": {},
   "outputs": [
    {
     "data": {
      "text/html": [
       "<div>\n",
       "<style scoped>\n",
       "    .dataframe tbody tr th:only-of-type {\n",
       "        vertical-align: middle;\n",
       "    }\n",
       "\n",
       "    .dataframe tbody tr th {\n",
       "        vertical-align: top;\n",
       "    }\n",
       "\n",
       "    .dataframe thead th {\n",
       "        text-align: right;\n",
       "    }\n",
       "</style>\n",
       "<table border=\"1\" class=\"dataframe\">\n",
       "  <thead>\n",
       "    <tr style=\"text-align: right;\">\n",
       "      <th></th>\n",
       "      <th>Unnamed: 0</th>\n",
       "      <th>Make</th>\n",
       "      <th>Make_Year</th>\n",
       "      <th>Color</th>\n",
       "      <th>Body_Type</th>\n",
       "      <th>Mileage_Run</th>\n",
       "      <th>No_of_Owners</th>\n",
       "      <th>Seating_Capacity</th>\n",
       "      <th>Fuel_Type</th>\n",
       "      <th>Transmission</th>\n",
       "      <th>Transmission_Type</th>\n",
       "      <th>Price</th>\n",
       "    </tr>\n",
       "  </thead>\n",
       "  <tbody>\n",
       "    <tr>\n",
       "      <th>0</th>\n",
       "      <td>1</td>\n",
       "      <td>Volkswagen</td>\n",
       "      <td>2017</td>\n",
       "      <td>silver</td>\n",
       "      <td>sedan</td>\n",
       "      <td>44611</td>\n",
       "      <td>1st</td>\n",
       "      <td>5</td>\n",
       "      <td>diesel</td>\n",
       "      <td>7-Speed</td>\n",
       "      <td>Automatic</td>\n",
       "      <td>657000</td>\n",
       "    </tr>\n",
       "    <tr>\n",
       "      <th>1</th>\n",
       "      <td>2</td>\n",
       "      <td>Hyundai</td>\n",
       "      <td>2016</td>\n",
       "      <td>red</td>\n",
       "      <td>crossover</td>\n",
       "      <td>20305</td>\n",
       "      <td>1st</td>\n",
       "      <td>5</td>\n",
       "      <td>petrol</td>\n",
       "      <td>5-Speed</td>\n",
       "      <td>Manual</td>\n",
       "      <td>682000</td>\n",
       "    </tr>\n",
       "    <tr>\n",
       "      <th>2</th>\n",
       "      <td>3</td>\n",
       "      <td>Honda</td>\n",
       "      <td>2019</td>\n",
       "      <td>white</td>\n",
       "      <td>suv</td>\n",
       "      <td>29540</td>\n",
       "      <td>2nd</td>\n",
       "      <td>5</td>\n",
       "      <td>petrol</td>\n",
       "      <td>5-Speed</td>\n",
       "      <td>Manual</td>\n",
       "      <td>793000</td>\n",
       "    </tr>\n",
       "    <tr>\n",
       "      <th>3</th>\n",
       "      <td>4</td>\n",
       "      <td>Renault</td>\n",
       "      <td>2017</td>\n",
       "      <td>bronze</td>\n",
       "      <td>hatchback</td>\n",
       "      <td>35680</td>\n",
       "      <td>1st</td>\n",
       "      <td>5</td>\n",
       "      <td>petrol</td>\n",
       "      <td>5-Speed</td>\n",
       "      <td>Manual</td>\n",
       "      <td>414000</td>\n",
       "    </tr>\n",
       "    <tr>\n",
       "      <th>4</th>\n",
       "      <td>5</td>\n",
       "      <td>Hyundai</td>\n",
       "      <td>2017</td>\n",
       "      <td>orange</td>\n",
       "      <td>hatchback</td>\n",
       "      <td>25126</td>\n",
       "      <td>1st</td>\n",
       "      <td>5</td>\n",
       "      <td>petrol</td>\n",
       "      <td>5-Speed</td>\n",
       "      <td>Manual</td>\n",
       "      <td>515000</td>\n",
       "    </tr>\n",
       "  </tbody>\n",
       "</table>\n",
       "</div>"
      ],
      "text/plain": [
       "   Unnamed: 0        Make  Make_Year   Color  Body_Type  Mileage_Run  \\\n",
       "0           1  Volkswagen       2017  silver      sedan        44611   \n",
       "1           2     Hyundai       2016     red  crossover        20305   \n",
       "2           3       Honda       2019   white        suv        29540   \n",
       "3           4     Renault       2017  bronze  hatchback        35680   \n",
       "4           5     Hyundai       2017  orange  hatchback        25126   \n",
       "\n",
       "  No_of_Owners  Seating_Capacity Fuel_Type Transmission Transmission_Type  \\\n",
       "0          1st                 5    diesel      7-Speed         Automatic   \n",
       "1          1st                 5    petrol      5-Speed            Manual   \n",
       "2          2nd                 5    petrol      5-Speed            Manual   \n",
       "3          1st                 5    petrol      5-Speed            Manual   \n",
       "4          1st                 5    petrol      5-Speed            Manual   \n",
       "\n",
       "    Price  \n",
       "0  657000  \n",
       "1  682000  \n",
       "2  793000  \n",
       "3  414000  \n",
       "4  515000  "
      ]
     },
     "execution_count": 85,
     "metadata": {},
     "output_type": "execute_result"
    }
   ],
   "source": [
    "# Question 1 \n",
    "cars = pd.read_csv('./data/cars_hw.csv')\n",
    "cars.head()"
   ]
  },
  {
   "cell_type": "code",
   "execution_count": 86,
   "metadata": {},
   "outputs": [],
   "source": [
    "# clean the data, do log for mileage run and price \n",
    "cars['Mileage_Run'] = np.log1p(cars['Mileage_Run'])\n",
    "cars['Price'] = np.log1p(cars['Price'])"
   ]
  },
  {
   "cell_type": "code",
   "execution_count": 87,
   "metadata": {},
   "outputs": [
    {
     "name": "stdout",
     "output_type": "stream",
     "text": [
      "count    976.000000\n",
      "mean      13.411035\n",
      "std        0.450275\n",
      "min       12.144203\n",
      "25%       13.072649\n",
      "50%       13.409797\n",
      "75%       13.691082\n",
      "max       14.894261\n",
      "Name: Price, dtype: float64\n"
     ]
    }
   ],
   "source": [
    "# Question 2 : summarize the Price variable\n",
    "price_summary = cars['Price'].describe()\n",
    "print(price_summary)\n"
   ]
  },
  {
   "cell_type": "code",
   "execution_count": 88,
   "metadata": {},
   "outputs": [
    {
     "name": "stdout",
     "output_type": "stream",
     "text": [
      "               count       mean       std        min        25%        50%  \\\n",
      "Make                                                                         \n",
      "Chevrolet        6.0  12.919898  0.480974  12.495008  12.568395  12.752289   \n",
      "Datsun           3.0  12.576050  0.036311  12.538971  12.558305  12.577640   \n",
      "Ford            52.0  13.468282  0.210894  12.577640  13.361382  13.469494   \n",
      "Honda           73.0  13.536319  0.336971  12.663501  13.272508  13.573440   \n",
      "Hyundai        305.0  13.368512  0.398781  12.421188  13.091906  13.366095   \n",
      "Jeep             4.0  14.216591  0.105084  14.070154  14.183271  14.240266   \n",
      "Kia              8.0  14.292178  0.076877  14.129592  14.272242  14.303106   \n",
      "MG Motors       35.0  14.439052  0.066263  14.278616  14.395745  14.429615   \n",
      "Mahindra        18.0  13.898954  0.159906  13.587356  13.851809  13.905681   \n",
      "Maruti Suzuki  293.0  13.218134  0.371408  12.375820  12.926351  13.174958   \n",
      "Nissan           4.0  13.641195  0.392609  13.071072  13.537776  13.788724   \n",
      "Renault         68.0  13.350864  0.331717  12.567241  13.071066  13.375396   \n",
      "Skoda            5.0  13.640865  0.827046  12.985400  13.051943  13.195616   \n",
      "Tata            23.0  13.713406  0.615089  12.144203  13.566384  13.675100   \n",
      "Toyota          50.0  13.535508  0.360111  12.815841  13.171416  13.703462   \n",
      "Volkswagen      29.0  13.294744  0.203839  12.904210  13.203023  13.316286   \n",
      "\n",
      "                     75%        max  \n",
      "Make                                 \n",
      "Chevrolet      13.171683  13.701223  \n",
      "Datsun         12.594590  12.611541  \n",
      "Ford           13.575985  13.879425  \n",
      "Honda          13.726680  14.245344  \n",
      "Hyundai        13.637581  14.370545  \n",
      "Jeep           14.273587  14.315680  \n",
      "Kia            14.349516  14.369971  \n",
      "MG Motors      14.497597  14.518113  \n",
      "Mahindra       13.961250  14.197366  \n",
      "Maruti Suzuki  13.546324  13.966514  \n",
      "Nissan         13.892144  13.916261  \n",
      "Renault        13.593608  13.967374  \n",
      "Skoda          14.077106  14.894261  \n",
      "Tata           14.251370  14.557448  \n",
      "Toyota         13.838228  13.903522  \n",
      "Volkswagen     13.457407  13.579789  \n"
     ]
    }
   ],
   "source": [
    "# Question 2 : group by Make and summarize prices\n",
    "grouped_prices = cars.groupby('Make')['Price'].describe()\n",
    "\n",
    "# Print the grouped summary statistics\n",
    "print(grouped_prices)"
   ]
  },
  {
   "cell_type": "code",
   "execution_count": 89,
   "metadata": {},
   "outputs": [
    {
     "data": {
      "image/png": "[encoded data removed]",
      "text/plain": [
       "<Figure size 432x288 with 1 Axes>"
      ]
     },
     "metadata": {
      "needs_background": "light"
     },
     "output_type": "display_data"
    }
   ],
   "source": [
    "# Question 2 : kernel density plot for Price\n",
    "sns.kdeplot(data=cars, x='Price', fill=True)\n",
    "plt.title('Kernel Density Plot of Car Prices')\n",
    "plt.xlabel('Price')\n",
    "plt.ylabel('Density')\n",
    "plt.show()"
   ]
  },
  {
   "cell_type": "code",
   "execution_count": 90,
   "metadata": {},
   "outputs": [
    {
     "data": {
      "image/png": "[encoded data removed]",
      "text/plain": [
       "<Figure size 864x576 with 1 Axes>"
      ]
     },
     "metadata": {
      "needs_background": "light"
     },
     "output_type": "display_data"
    }
   ],
   "source": [
    "# Question 2 : grouped kernel density plot by Make\n",
    "plt.figure(figsize=(12, 8))\n",
    "sns.kdeplot(data=cars, x='Price', hue='Make', fill=True, common_norm=False)\n",
    "plt.title('Grouped Kernel Density Plot of Car Prices by Make')\n",
    "plt.xlabel('Price')\n",
    "plt.ylabel('Density')\n",
    "# plt.legend(title='Make', bbox_to_anchor=(1.05, 1), loc='upper left')\n",
    "plt.show()"
   ]
  },
  {
   "cell_type": "code",
   "execution_count": 91,
   "metadata": {},
   "outputs": [
    {
     "name": "stdout",
     "output_type": "stream",
     "text": [
      "The most expensive car brands are: MG Motors\n"
     ]
    }
   ],
   "source": [
    "# Question 2 : find the most expensive car brands\n",
    "most_expensive_brands = grouped_prices['mean'].idxmax()\n",
    "print(f\"The most expensive car brands are: {most_expensive_brands}\")"
   ]
  },
  {
   "cell_type": "code",
   "execution_count": 92,
   "metadata": {},
   "outputs": [
    {
     "name": "stdout",
     "output_type": "stream",
     "text": [
      "count    976.000000\n",
      "mean      13.411035\n",
      "std        0.450275\n",
      "min       12.144203\n",
      "25%       13.072649\n",
      "50%       13.409797\n",
      "75%       13.691082\n",
      "max       14.894261\n",
      "Name: Price, dtype: float64\n"
     ]
    },
    {
     "data": {
      "text/html": [
       "<div>\n",
       "<style scoped>\n",
       "    .dataframe tbody tr th:only-of-type {\n",
       "        vertical-align: middle;\n",
       "    }\n",
       "\n",
       "    .dataframe tbody tr th {\n",
       "        vertical-align: top;\n",
       "    }\n",
       "\n",
       "    .dataframe thead th {\n",
       "        text-align: right;\n",
       "    }\n",
       "</style>\n",
       "<table border=\"1\" class=\"dataframe\">\n",
       "  <thead>\n",
       "    <tr style=\"text-align: right;\">\n",
       "      <th></th>\n",
       "      <th>Unnamed: 0</th>\n",
       "      <th>Make</th>\n",
       "      <th>Make_Year</th>\n",
       "      <th>Color</th>\n",
       "      <th>Body_Type</th>\n",
       "      <th>Mileage_Run</th>\n",
       "      <th>No_of_Owners</th>\n",
       "      <th>Seating_Capacity</th>\n",
       "      <th>Fuel_Type</th>\n",
       "      <th>Transmission</th>\n",
       "      <th>Transmission_Type</th>\n",
       "    </tr>\n",
       "  </thead>\n",
       "  <tbody>\n",
       "    <tr>\n",
       "      <th>0</th>\n",
       "      <td>1</td>\n",
       "      <td>Volkswagen</td>\n",
       "      <td>2017</td>\n",
       "      <td>silver</td>\n",
       "      <td>sedan</td>\n",
       "      <td>10.705758</td>\n",
       "      <td>1st</td>\n",
       "      <td>5</td>\n",
       "      <td>diesel</td>\n",
       "      <td>7-Speed</td>\n",
       "      <td>Automatic</td>\n",
       "    </tr>\n",
       "    <tr>\n",
       "      <th>1</th>\n",
       "      <td>2</td>\n",
       "      <td>Hyundai</td>\n",
       "      <td>2016</td>\n",
       "      <td>red</td>\n",
       "      <td>crossover</td>\n",
       "      <td>9.918672</td>\n",
       "      <td>1st</td>\n",
       "      <td>5</td>\n",
       "      <td>petrol</td>\n",
       "      <td>5-Speed</td>\n",
       "      <td>Manual</td>\n",
       "    </tr>\n",
       "    <tr>\n",
       "      <th>2</th>\n",
       "      <td>3</td>\n",
       "      <td>Honda</td>\n",
       "      <td>2019</td>\n",
       "      <td>white</td>\n",
       "      <td>suv</td>\n",
       "      <td>10.293534</td>\n",
       "      <td>2nd</td>\n",
       "      <td>5</td>\n",
       "      <td>petrol</td>\n",
       "      <td>5-Speed</td>\n",
       "      <td>Manual</td>\n",
       "    </tr>\n",
       "    <tr>\n",
       "      <th>3</th>\n",
       "      <td>4</td>\n",
       "      <td>Renault</td>\n",
       "      <td>2017</td>\n",
       "      <td>bronze</td>\n",
       "      <td>hatchback</td>\n",
       "      <td>10.482374</td>\n",
       "      <td>1st</td>\n",
       "      <td>5</td>\n",
       "      <td>petrol</td>\n",
       "      <td>5-Speed</td>\n",
       "      <td>Manual</td>\n",
       "    </tr>\n",
       "    <tr>\n",
       "      <th>4</th>\n",
       "      <td>5</td>\n",
       "      <td>Hyundai</td>\n",
       "      <td>2017</td>\n",
       "      <td>orange</td>\n",
       "      <td>hatchback</td>\n",
       "      <td>10.131698</td>\n",
       "      <td>1st</td>\n",
       "      <td>5</td>\n",
       "      <td>petrol</td>\n",
       "      <td>5-Speed</td>\n",
       "      <td>Manual</td>\n",
       "    </tr>\n",
       "  </tbody>\n",
       "</table>\n",
       "</div>"
      ],
      "text/plain": [
       "   Unnamed: 0        Make  Make_Year   Color  Body_Type  Mileage_Run  \\\n",
       "0           1  Volkswagen       2017  silver      sedan    10.705758   \n",
       "1           2     Hyundai       2016     red  crossover     9.918672   \n",
       "2           3       Honda       2019   white        suv    10.293534   \n",
       "3           4     Renault       2017  bronze  hatchback    10.482374   \n",
       "4           5     Hyundai       2017  orange  hatchback    10.131698   \n",
       "\n",
       "  No_of_Owners  Seating_Capacity Fuel_Type Transmission Transmission_Type  \n",
       "0          1st                 5    diesel      7-Speed         Automatic  \n",
       "1          1st                 5    petrol      5-Speed            Manual  \n",
       "2          2nd                 5    petrol      5-Speed            Manual  \n",
       "3          1st                 5    petrol      5-Speed            Manual  \n",
       "4          1st                 5    petrol      5-Speed            Manual  "
      ]
     },
     "execution_count": 92,
     "metadata": {},
     "output_type": "execute_result"
    }
   ],
   "source": [
    "# Question 3 \n",
    "y = cars['Price']\n",
    "print(y.describe())\n",
    "X = cars.drop('Price',axis=1)\n",
    "X.head()"
   ]
  },
  {
   "cell_type": "code",
   "execution_count": 93,
   "metadata": {},
   "outputs": [],
   "source": [
    "# Question 3 \n",
    "from sklearn.model_selection import train_test_split\n",
    "x_train, x_test, y_train, y_test = train_test_split(X, y, test_size=0.2, random_state=50)\n",
    "TSS = np.sum( (y_test - y_train.mean())**2 )\n",
    "N_test = len(y_test)"
   ]
  },
  {
   "cell_type": "code",
   "execution_count": 94,
   "metadata": {},
   "outputs": [
    {
     "name": "stdout",
     "output_type": "stream",
     "text": [
      "Numeric Model:\n",
      "R^2: 0.342\n",
      "RMSE: 0.35\n"
     ]
    },
    {
     "name": "stderr",
     "output_type": "stream",
     "text": [
      "/apps/software/standard/compiler/gcc/9.2.0/jupyter_conda/2020.11-py3.8/lib/python3.8/site-packages/seaborn/_decorators.py:36: FutureWarning: Pass the following variables as keyword args: x, y. From version 0.12, the only valid positional argument will be `data`, and passing other arguments without an explicit keyword will result in an error or misinterpretation.\n",
      "  warnings.warn(\n"
     ]
    },
    {
     "data": {
      "image/png": "[encoded data removed]",
      "text/plain": [
       "<Figure size 720x432 with 1 Axes>"
      ]
     },
     "metadata": {
      "needs_background": "light"
     },
     "output_type": "display_data"
    },
    {
     "name": "stdout",
     "output_type": "stream",
     "text": [
      "\n",
      "Categorical Model:\n",
      "R^2: 0.576\n",
      "RMSE: 0.28\n"
     ]
    },
    {
     "name": "stderr",
     "output_type": "stream",
     "text": [
      "/apps/software/standard/compiler/gcc/9.2.0/jupyter_conda/2020.11-py3.8/lib/python3.8/site-packages/seaborn/_decorators.py:36: FutureWarning: Pass the following variables as keyword args: x, y. From version 0.12, the only valid positional argument will be `data`, and passing other arguments without an explicit keyword will result in an error or misinterpretation.\n",
      "  warnings.warn(\n"
     ]
    },
    {
     "data": {
      "image/png": "[encoded data removed]",
      "text/plain": [
       "<Figure size 720x432 with 1 Axes>"
      ]
     },
     "metadata": {
      "needs_background": "light"
     },
     "output_type": "display_data"
    },
    {
     "name": "stdout",
     "output_type": "stream",
     "text": [
      "\n",
      "Joint Model:\n",
      "R^2: 0.797\n",
      "RMSE: 0.19\n"
     ]
    },
    {
     "name": "stderr",
     "output_type": "stream",
     "text": [
      "/apps/software/standard/compiler/gcc/9.2.0/jupyter_conda/2020.11-py3.8/lib/python3.8/site-packages/seaborn/_decorators.py:36: FutureWarning: Pass the following variables as keyword args: x, y. From version 0.12, the only valid positional argument will be `data`, and passing other arguments without an explicit keyword will result in an error or misinterpretation.\n",
      "  warnings.warn(\n"
     ]
    },
    {
     "data": {
      "image/png": "[encoded data removed]",
      "text/plain": [
       "<Figure size 720x432 with 1 Axes>"
      ]
     },
     "metadata": {
      "needs_background": "light"
     },
     "output_type": "display_data"
    }
   ],
   "source": [
    "# Question 4 \n",
    "from sklearn.linear_model import LinearRegression\n",
    "from sklearn.metrics import mean_squared_error, r2_score\n",
    "from sklearn.preprocessing import OneHotEncoder\n",
    "from sklearn.compose import ColumnTransformer\n",
    "from sklearn.pipeline import Pipeline\n",
    "\n",
    "numeric_cols = x_train.select_dtypes(include='number').columns\n",
    "numeric_model = LinearRegression()\n",
    "numeric_model.fit(x_train[numeric_cols], y_train)\n",
    "numeric_predictions = numeric_model.predict(x_test[numeric_cols])\n",
    "\n",
    "numeric_rmse = mean_squared_error(y_test, numeric_predictions, squared=False)\n",
    "numeric_r2 = r2_score(y_test, numeric_predictions)\n",
    "\n",
    "print(\"Numeric Model:\")\n",
    "print(f'R^2: {numeric_r2:.3f}')\n",
    "print(f\"RMSE: {numeric_rmse:.2f}\")\n",
    "\n",
    "plt.figure(figsize=(10, 6))\n",
    "sns.scatterplot(y_test, numeric_predictions)\n",
    "plt.title(\"Numeric Model - Actual vs. Predicted\")\n",
    "plt.xlabel(\"Actual Values\")\n",
    "plt.ylabel(\"Predicted Values\")\n",
    "plt.show()\n",
    "\n",
    "categorical_cols = x_train.select_dtypes(include='object').columns\n",
    "preprocessor = ColumnTransformer(\n",
    "    transformers=[('cat', OneHotEncoder(handle_unknown='ignore'), categorical_cols)]\n",
    ")\n",
    "categorical_model = Pipeline([\n",
    "    ('preprocessor', preprocessor),\n",
    "    ('regressor', LinearRegression())\n",
    "])\n",
    "categorical_model.fit(x_train, y_train)\n",
    "categorical_predictions = categorical_model.predict(x_test)\n",
    "\n",
    "categorical_rmse = mean_squared_error(y_test, categorical_predictions, squared=False)\n",
    "categorical_r2 = r2_score(y_test, categorical_predictions)\n",
    "\n",
    "print(\"\\nCategorical Model:\")\n",
    "print(f'R^2: {categorical_r2:.3f}')\n",
    "print(f\"RMSE: {categorical_rmse:.2f}\")\n",
    "\n",
    "plt.figure(figsize=(10, 6))\n",
    "sns.scatterplot(y_test, categorical_predictions)\n",
    "plt.title(\"Categorical Model - Actual vs. Predicted\")\n",
    "plt.xlabel(\"Actual Values\")\n",
    "plt.ylabel(\"Predicted Values\")\n",
    "plt.show()\n",
    "\n",
    "x_train_combined = pd.concat([x_train[numeric_cols], pd.get_dummies(x_train[categorical_cols])], axis=1)\n",
    "x_test_combined = pd.concat([x_test[numeric_cols], pd.get_dummies(x_test[categorical_cols])], axis=1)\n",
    "\n",
    "# Ensure that the columns match between train and test sets for the combined model\n",
    "missing_columns = set(x_train_combined.columns) - set(x_test_combined.columns)\n",
    "for col in missing_columns:\n",
    "    x_test_combined[col] = 0\n",
    "\n",
    "# make sure the order of columns in the test set matches the order during training\n",
    "x_test_combined = x_test_combined[x_train_combined.columns]\n",
    "\n",
    "joint_model = LinearRegression()\n",
    "joint_model.fit(x_train_combined, y_train)\n",
    "joint_predictions = joint_model.predict(x_test_combined)\n",
    "\n",
    "# RMSE and R-squared for the combined model\n",
    "joint_rmse = mean_squared_error(y_test, joint_predictions, squared=False)\n",
    "joint_r2 = r2_score(y_test, joint_predictions)\n",
    "\n",
    "print(\"\\nJoint Model:\")\n",
    "print(f'R^2: {joint_r2:.3f}')\n",
    "print(f\"RMSE: {joint_rmse:.2f}\")\n",
    "\n",
    "# Scatter plot for joint model\n",
    "plt.figure(figsize=(10, 6))\n",
    "sns.scatterplot(y_test, joint_predictions)\n",
    "plt.title(\"Joint Model - Actual vs. Predicted\")\n",
    "plt.xlabel(\"Actual Values\")\n",
    "plt.ylabel(\"Predicted Values\")\n",
    "plt.show()\n"
   ]
  },
  {
   "cell_type": "markdown",
   "metadata": {},
   "source": [
    "The model that performs the best was the joint model, because it has the highest R^2 value and the lowest RMSE value. "
   ]
  },
  {
   "cell_type": "markdown",
   "metadata": {},
   "source": [
    "Use the PolynomialFeatures function from sklearn to expand the set of numerical variables you're using, along with the categorical variables. As you increase the degree of the expansion, how do the  𝑅2 and RMSE change? At what point does  𝑅2 go negative on the test set? For your best model with expanded features, what is the  𝑅2 and RMSE? How does it compare to your best model from part 3?"
   ]
  },
  {
   "cell_type": "code",
   "execution_count": 95,
   "metadata": {},
   "outputs": [
    {
     "name": "stdout",
     "output_type": "stream",
     "text": [
      "Degree 1 Polynomial Model:\n",
      "R^2: 0.793\n",
      "RMSE: 0.20\n",
      "\n",
      "Degree 2 Polynomial Model:\n",
      "R^2: 0.705\n",
      "RMSE: 0.23\n",
      "\n",
      "Degree 3 Polynomial Model:\n",
      "R^2: -640519.776\n",
      "RMSE: 345.69\n",
      "\n",
      "R^2 became negative at degree 3\n"
     ]
    }
   ],
   "source": [
    "import numpy as np\n",
    "from sklearn.linear_model import Ridge\n",
    "from sklearn.pipeline import Pipeline, make_pipeline\n",
    "from sklearn.preprocessing import PolynomialFeatures\n",
    "\n",
    "# List of numeric and categorical column names\n",
    "numeric_cols = x_train.select_dtypes(include=['number']).columns\n",
    "categorical_cols = x_train.select_dtypes(include=['object']).columns\n",
    "\n",
    "# Column transformer for one-hot encoding categorical variables\n",
    "preprocessor = ColumnTransformer(\n",
    "    transformers=[\n",
    "        ('num', 'passthrough', numeric_cols),\n",
    "        ('cat', OneHotEncoder(), categorical_cols)\n",
    "    ])\n",
    "\n",
    "# Linear regression model for numeric variables and one-hot encoded categorical variables\n",
    "numeric_model = Ridge(alpha=7)\n",
    "categorical_model = Pipeline([\n",
    "    ('preprocessor', preprocessor),\n",
    "    ('regressor', Ridge(alpha=7))\n",
    "])\n",
    "\n",
    "# Fit models to training data\n",
    "numeric_model.fit(x_train[numeric_cols], y_train)\n",
    "categorical_model.fit(x_train, y_train)\n",
    "\n",
    "# Pipeline with polynomial feature expansion and Ridge regression\n",
    "def get_poly_model(degree):\n",
    "    return make_pipeline(\n",
    "        preprocessor,\n",
    "        PolynomialFeatures(degree),\n",
    "        Ridge(alpha=7)\n",
    "    )\n",
    "\n",
    "# Define the degrees of polynomial expansion to test\n",
    "degrees = [1, 2, 3, 4, 5]\n",
    "\n",
    "for degree in degrees:\n",
    "    # Create polynomial model\n",
    "    model_poly = get_poly_model(degree)\n",
    "    \n",
    "    # Fit model to training data\n",
    "    model_poly.fit(x_train, y_train)\n",
    "    \n",
    "    # Make predictions on the test set\n",
    "    y_pred_poly = model_poly.predict(x_test)\n",
    "    \n",
    "    # R^2 and RMSE for polynomial model\n",
    "    r2_poly = r2_score(y_test, y_pred_poly)\n",
    "    rmse_poly = mean_squared_error(y_test, y_pred_poly, squared=False)\n",
    "    \n",
    "    print(f\"Degree {degree} Polynomial Model:\")\n",
    "    print(f\"R^2: {r2_poly:.3f}\")\n",
    "    print(f\"RMSE: {rmse_poly:.2f}\")\n",
    "    print(\"\")\n",
    "\n",
    "    # Check if R^2 goes negative before proceeding\n",
    "    if r2_poly < 0:\n",
    "        print(f\"R^2 became negative at degree {degree}\")\n",
    "        break\n"
   ]
  },
  {
   "cell_type": "code",
   "execution_count": 96,
   "metadata": {},
   "outputs": [
    {
     "data": {
      "image/png": "[encoded data removed]",
      "text/plain": [
       "<Figure size 1296x432 with 1 Axes>"
      ]
     },
     "metadata": {
      "needs_background": "light"
     },
     "output_type": "display_data"
    }
   ],
   "source": [
    "# Question 5 \n",
    "import matplotlib.pyplot as plt\n",
    "import seaborn as sns\n",
    "import numpy as np\n",
    "\n",
    "#  degree 2 polynomial model was the best one \n",
    "best_model = get_poly_model(2)\n",
    "\n",
    "# fitting the model \n",
    "best_model.fit(x_train, y_train)\n",
    "\n",
    "# predictions on the test set\n",
    "y_pred = best_model.predict(x_test)\n",
    "\n",
    "\n",
    "plt.figure(figsize=(18, 6))\n",
    "plt.scatter(y_test, y_pred, alpha=0.7)\n",
    "plt.title('True Values vs Predicted Values')\n",
    "plt.xlabel('True Values')\n",
    "plt.ylabel('Predicted Values')\n",
    "plt.plot([min(y_test), max(y_test)], [min(y_test), max(y_test)], linestyle='--', color='red')  # Diagonal reference line\n",
    "plt.show()\n",
    "\n",
    "\n",
    "# resid = y_test - y_pred\n",
    "# residuals = np.asarray(resid)\n",
    "# #print(residuals)\n",
    "# # plot kernel density plot of residuals\n",
    "# plt.figure(figsize=(18, 6))\n",
    "# sns.histplot(residuals, kde=True)\n",
    "# plt.title('Residuals Distribution')\n",
    "# plt.xlabel('Residuals')\n",
    "# plt.show()"
   ]
  },
  {
   "cell_type": "markdown",
   "metadata": {},
   "source": [
    "# Note about question 5 \n",
    "\n",
    "I have been trying a lot of different methods for this question, and I still cannot figure out how to fix it. The code does compile, but I cannot figure out how to get rid of this error. The scatterplot is looking how I expect it, but I am not able to get rid of the error on the residuals plot. The error says to convert it to a numpy array before plotting, which I am trying to do and yet there is no change in the error message. "
   ]
  },
  {
   "cell_type": "code",
   "execution_count": 97,
   "metadata": {},
   "outputs": [
    {
     "name": "stdout",
     "output_type": "stream",
     "text": [
      "Depth 1 Decision Tree Model:\n",
      "R^2: 0.34\n",
      "RMSE: 0.35\n",
      "\n",
      "Depth 2 Decision Tree Model:\n",
      "R^2: 0.43\n",
      "RMSE: 0.33\n",
      "\n",
      "Depth 3 Decision Tree Model:\n",
      "R^2: 0.47\n",
      "RMSE: 0.31\n",
      "\n",
      "Depth 4 Decision Tree Model:\n",
      "R^2: 0.53\n",
      "RMSE: 0.29\n",
      "\n",
      "Depth 5 Decision Tree Model:\n",
      "R^2: 0.58\n",
      "RMSE: 0.28\n",
      "\n",
      "Depth 6 Decision Tree Model:\n",
      "R^2: 0.58\n",
      "RMSE: 0.28\n",
      "\n",
      "Depth 7 Decision Tree Model:\n",
      "R^2: 0.58\n",
      "RMSE: 0.28\n",
      "\n",
      "Depth 8 Decision Tree Model:\n",
      "R^2: 0.58\n",
      "RMSE: 0.28\n",
      "\n",
      "Depth 9 Decision Tree Model:\n",
      "R^2: 0.59\n",
      "RMSE: 0.28\n",
      "\n",
      "Depth 10 Decision Tree Model:\n",
      "R^2: 0.60\n",
      "RMSE: 0.27\n",
      "\n",
      "The best depth for the Decision Tree is: 10\n"
     ]
    }
   ],
   "source": [
    "import numpy as np\n",
    "import pandas as pd\n",
    "from sklearn.model_selection import train_test_split\n",
    "from sklearn.tree import DecisionTreeRegressor\n",
    "from sklearn.metrics import mean_squared_error, r2_score\n",
    "from sklearn.preprocessing import OneHotEncoder\n",
    "from sklearn.compose import ColumnTransformer\n",
    "from sklearn.pipeline import Pipeline\n",
    "\n",
    "# Assuming x_train, x_test, and y_train are defined earlier\n",
    "\n",
    "# Identify categorical columns\n",
    "categorical_cols = x_train.select_dtypes(include=['object']).columns\n",
    "\n",
    "# Column transformer for one-hot encoding categorical variables\n",
    "preprocessor = ColumnTransformer(\n",
    "    transformers=[\n",
    "        ('cat', OneHotEncoder(), categorical_cols)\n",
    "    ])\n",
    "\n",
    "# Vary maximum depth and compute R^2 and RMSE for each depth\n",
    "depths = range(1, 11)  # Adjust range as needed\n",
    "best_depth = None\n",
    "best_r2 = -np.inf\n",
    "\n",
    "for depth in depths:\n",
    "    # Decision tree model with varying max depth\n",
    "    tree_model = DecisionTreeRegressor(max_depth=depth, random_state=42)\n",
    "    \n",
    "    # Pipeline with one-hot encoding and decision tree\n",
    "    pipeline = Pipeline([\n",
    "        ('preprocessor', preprocessor),\n",
    "        ('regressor', tree_model)\n",
    "    ])\n",
    "    \n",
    "    # Fit model to training data\n",
    "    pipeline.fit(x_train, y_train)\n",
    "    \n",
    "    # Take predictions on the test set\n",
    "    y_pred_tree = pipeline.predict(x_test)\n",
    "    \n",
    "    # R^2 and RMSE for the decision tree model\n",
    "    r2_tree = r2_score(y_test, y_pred_tree)\n",
    "    rmse_tree = mean_squared_error(y_test, y_pred_tree, squared=False)\n",
    "    \n",
    "    print(f'Depth {depth} Decision Tree Model:')\n",
    "    print(f'R^2: {r2_tree:.2f}')\n",
    "    print(f'RMSE: {rmse_tree:.2f}')\n",
    "    print('')\n",
    "    \n",
    "    # Check if this depth gives the best R^2\n",
    "    if r2_tree > best_r2:\n",
    "        best_r2 = r2_tree\n",
    "        best_depth = depth\n",
    "\n",
    "print(f'The best depth for the Decision Tree is: {best_depth}')\n"
   ]
  },
  {
   "cell_type": "code",
   "execution_count": 98,
   "metadata": {},
   "outputs": [
    {
     "name": "stdout",
     "output_type": "stream",
     "text": [
      "Depth 1 Decision Tree Model:\n",
      "R^2: 0.337\n",
      "RMSE: 0.35\n",
      "\n",
      "Depth 2 Decision Tree Model:\n",
      "R^2: 0.426\n",
      "RMSE: 0.33\n",
      "\n",
      "Depth 3 Decision Tree Model:\n",
      "R^2: 0.474\n",
      "RMSE: 0.31\n",
      "\n",
      "Depth 4 Decision Tree Model:\n",
      "R^2: 0.534\n",
      "RMSE: 0.29\n",
      "\n",
      "Depth 5 Decision Tree Model:\n",
      "R^2: 0.577\n",
      "RMSE: 0.28\n",
      "\n",
      "Depth 6 Decision Tree Model:\n",
      "R^2: 0.579\n",
      "RMSE: 0.28\n",
      "\n",
      "Depth 7 Decision Tree Model:\n",
      "R^2: 0.579\n",
      "RMSE: 0.28\n",
      "\n",
      "Depth 8 Decision Tree Model:\n",
      "R^2: 0.584\n",
      "RMSE: 0.28\n",
      "\n",
      "Depth 9 Decision Tree Model:\n",
      "R^2: 0.591\n",
      "RMSE: 0.28\n",
      "\n",
      "Depth 10 Decision Tree Model:\n",
      "R^2: 0.601\n",
      "RMSE: 0.27\n",
      "\n",
      "The best depth for the Decision Tree is: 10\n"
     ]
    }
   ],
   "source": [
    "column_categorical = x_train.select_dtypes(include=['object']).columns\n",
    "\n",
    "# column transformer for one-hot encoding categorical variables\n",
    "preprocessor = ColumnTransformer(\n",
    "    transformers=[\n",
    "        ('cat', OneHotEncoder(), column_categorical)\n",
    "    ])\n",
    "\n",
    "# vary maximum depth and compute R^2 and RMSE for each depth\n",
    "depths = range(1, 11)  # adjust range as needed\n",
    "best_depth = None\n",
    "best_r2 = -np.inf\n",
    "\n",
    "for depth in depths:\n",
    "    # decision tree model with varying max depth\n",
    "    tree_model = DecisionTreeRegressor(max_depth=depth, random_state=42)\n",
    "\n",
    "    # pipeline with one-hot encoding and decision tree\n",
    "    pipeline = Pipeline([\n",
    "        ('preprocessor', preprocessor),\n",
    "        ('regressor', tree_model)\n",
    "    ])\n",
    "\n",
    "    # fit model to training data\n",
    "    pipeline.fit(x_train, y_train)\n",
    "\n",
    "    # make predictions on test set\n",
    "    y_pred_tree = pipeline.predict(x_test)\n",
    "\n",
    "    # R^2 and RMSE for the decision tree model\n",
    "    r2_tree = r2_score(y_test, y_pred_tree)\n",
    "    rmse_tree = mean_squared_error(y_test, y_pred_tree, squared=False)\n",
    "\n",
    "    print(f\"Depth {depth} Decision Tree Model:\")\n",
    "    print(f\"R^2: {r2_tree:.3f}\")\n",
    "    print(f\"RMSE: {rmse_tree:.2f}\")\n",
    "    print(\"\")\n",
    "\n",
    "    # check if this depth gives the best R^2\n",
    "    if r2_tree > best_r2:\n",
    "        best_r2 = r2_tree\n",
    "        best_depth = depth\n",
    "\n",
    "print(f\"The best depth for the Decision Tree is: {best_depth}\")"
   ]
  },
  {
   "cell_type": "code",
   "execution_count": 99,
   "metadata": {},
   "outputs": [
    {
     "data": {
      "image/png": "[encoded data removed]",
      "text/plain": [
       "<Figure size 720x432 with 1 Axes>"
      ]
     },
     "metadata": {
      "needs_background": "light"
     },
     "output_type": "display_data"
    }
   ],
   "source": [
    "import numpy as np\n",
    "best_tree_model = DecisionTreeRegressor(max_depth=best_depth, random_state=42)\n",
    "\n",
    "# pipeline with one-hot encoding and decision tree\n",
    "pipeline = Pipeline([\n",
    "    ('preprocessor', preprocessor),\n",
    "    ('regressor', best_tree_model)\n",
    "])\n",
    "\n",
    "# fit the best model to the training data\n",
    "pipeline.fit(x_train, y_train)\n",
    "\n",
    "# predictions on the test set\n",
    "y_pred_best_tree = pipeline.predict(x_test)\n",
    "\n",
    "# plot predicted vs true values\n",
    "plt.figure(figsize=(10, 6))\n",
    "plt.scatter(y_test, y_pred_best_tree, alpha=1)\n",
    "plt.title(f'True Values vs Predicted Values (Decision Tree Depth {best_depth})')\n",
    "plt.xlabel('True Values')\n",
    "plt.ylabel('Predicted Values')\n",
    "plt.plot([min(y_test), max(y_test)], [min(y_test), max(y_test)], linestyle='--', color='red', linewidth=2)\n",
    "plt.show()\n",
    "\n",
    "# # calculate residuals/errors\n",
    "# residuals_best_tree = np.array(y_test - y_pred_best_tree)\n",
    "\n",
    "# # plot residuals kernel density plot \n",
    "# plt.figure(figsize=(10, 6))\n",
    "# sns.histplot(residuals_best_tree, kde=True)\n",
    "# plt.title(f'Residuals Distribution (Decision Tree Depth {best_depth})')\n",
    "# plt.xlabel('Residuals')\n",
    "# plt.show()"
   ]
  },
  {
   "cell_type": "markdown",
   "metadata": {},
   "source": [
    "### Note about Question 1 Part 8 "
   ]
  },
  {
   "cell_type": "markdown",
   "metadata": {},
   "source": [
    "The same issue is arising where the residual plot is not properly showing. The main error that exists is that it says that it needs to be converted to a numpy array, and I think my code is right otherwise. "
   ]
  },
  {
   "cell_type": "markdown",
   "metadata": {},
   "source": [
    "### Question 1 part 9 \n",
    "\n",
    "After comparing both models, the linear regression model seems to be better because based on the scatterplot, the points are closer to the line of best fit, and the R^2 and RMSE values are better for the linear model than for the decision tree. Although I am having issues with the residuals histogram, at a glace it definitely seems like the residual histogram for the linear model has more of a normal distribution than then decision tree's distribution.  "
   ]
  },
  {
   "cell_type": "code",
   "execution_count": null,
   "metadata": {},
   "outputs": [],
   "source": []
  },
  {
   "cell_type": "markdown",
   "metadata": {},
   "source": [
    "**Q2.** The is a question about regression using decision trees and linear models. The data include wages at data science-y jobs, including\n",
    "\n",
    "  - `Rating`: Company worker happiness score\n",
    "  - `Size`: Number of employees\n",
    "  - `Sector`: Part of the economy\n",
    "  - `avg_salary`: Average wage\n",
    "  - `job_state`: Location of work\n",
    "\n",
    "  1. Load the `wages_hw.csv` file. Split the sample into an ~80% training set and a ~20% test set. Do any necessary cleaning, including outliers and missings.\n",
    "  2. Use a linear model to regress `avg_salary` on `Sector`. Which sectors have the highest predicted wages? What is the $R^2$ and `RMSE` on the test set? \n",
    "  3. Make a scatterplot of `avg_salary` and `Rating`. Is there an obvious visual relationship between the two variables? Regress `avg_salary` on `Rating` as a numeric variable: Do higher ratings predict higher or lower wages? Convert `Rating` to a one-hot encoded variable, with a category for each rating. Run a regression of `avg_salary` on the categorical version. How do your results change? Explain. Which version has a higher $R^2$ and lower `RMSE`?\n",
    "  4. Now interact `Sector` with the categorical version of `Rating`, so your regressors are a (Sector, Rating) pair; this is a programming puzzle you'll have to think about, but using the `.PolynomialFeatures()` function on the one-hot encoded categorical variables is one option, and another is pre-processing a new variable that interacts `Sector` and `Rating` and then one-hot encoding the result. Regress `avg_salary` on the (Sector, Rating) pairs. How does the $R^2$ and `RMSE` on the test set compare to part 2? Interpret the coefficients; which sector-rating pairs have the highest wages?\n",
    "  5. Run a linear regression of `avg_salary` on all the variables. What is the $R^2$ on the test set? How does it compare to your simpler models in 2--4? \n",
    "  6. Build a decision tree by regressing `avg_salary` on `Sector`, `Rating`, and the (Sector, Rating) pairs. What are the $R^2$ and `RMSE` of your models on the test set? How do your answers compare to parts 2, 3, and 4?\n",
    "  7. Build a decision tree by regressing `avg_salary` on all the other variables. What is the $R^2$ and `RMSE` on the test set?\n",
    "  8. Build a linear regression or decision tree using the available variables based on your own judgment. What degrees of freedom are you giving the model to predict variation in wages across company and location attributes? What is the $R^2$ and `RMSE` of your model? How does it compare to the previous ones in the question? Why does yours perform better or worse on the test set?"
   ]
  },
  {
   "cell_type": "markdown",
   "metadata": {},
   "source": [
    "**Q3.** This a question purely on categorical prediction. The data for this happen to be gathered in 1987 in Indonesia, and concern contraceptive method choice. The questions and data-gathering assumptions reflect the culture and attitudes of that time and place, but provide a good example of a categorical prediction problem on an important topic (family planning and maternal health The variables in the data are:\n",
    "\n",
    "    - Wife's age (numerical)\n",
    "    - Wife's education (categorical) 1=low, 2, 3, 4=high \n",
    "    - Husband's education (categorical) 1=low, 2, 3, 4=high \n",
    "    - Number of children ever born (numerical) \n",
    "    - Wife's religion (binary) 0=Non-Islam, 1=Islam\n",
    "    - Wife's now working? (binary) 0=Yes, 1=No\n",
    "    - Husband's occupation (categorical) 1, 2, 3, 4\n",
    "    - Standard-of-living index (categorical) 1=low, 2, 3, 4=high\n",
    "    - Media exposure (binary) 0=Good, 1=Not good\n",
    "    - Contraceptive method used (class attribute) 1=No-use, 2=Long-term, 3=Short-termhort-term\n",
    "\n",
    "  1. Load the `contraceptiveMethodChoice.csv` data. Tabulate the `method` variable (i.e. `.value_counts()`). 1 corresponds to `No Contraception`, 3 corresponds to `Short Term` (e.g. condoms, birth control pills), and 2 corresponds to `Long Term` (e.g. IUD, sterilization). Cross tabulate `method` and `numberChildren`. Do couples that use birth control tend to have more children than those who don't?\n",
    "  2. Split the sample into ~80% training data and ~20% testing data.\n",
    "  3. We are now going to make a mistake. Train a regression tree to predict the contraceptive method using the other variables in the data, not a classification tree. Look at the terminal nodes in the tree: What values do they take? Does that make sense? Explain clearly what has gone wrong here.\n",
    "  4. Instead of regression, use a classification tree to predict contraceptive method using the other variables in the data. How does it look different from the previous tree? What variables does the algorithm use? In broad terms, which groups of people are most likely to use each method of contraception?\n",
    "  5. Compute a confusion matrix for your classification tree on the test set (Hint: There are now three categories instead of two, so the cross tabulation will be a $3 \\times 3$ matrix instead of $2 \\times 2$.). Compute the Accuracy of your model overall, and the Accuracy for predicting each contraceptive method.\n",
    "  7. Why can't you use a linear probability model to do this exercise? Explain clearly in words."
   ]
  },
  {
   "cell_type": "code",
   "execution_count": 100,
   "metadata": {},
   "outputs": [
    {
     "data": {
      "text/html": [
       "<div>\n",
       "<style scoped>\n",
       "    .dataframe tbody tr th:only-of-type {\n",
       "        vertical-align: middle;\n",
       "    }\n",
       "\n",
       "    .dataframe tbody tr th {\n",
       "        vertical-align: top;\n",
       "    }\n",
       "\n",
       "    .dataframe thead th {\n",
       "        text-align: right;\n",
       "    }\n",
       "</style>\n",
       "<table border=\"1\" class=\"dataframe\">\n",
       "  <thead>\n",
       "    <tr style=\"text-align: right;\">\n",
       "      <th></th>\n",
       "      <th>Unnamed: 0</th>\n",
       "      <th>age</th>\n",
       "      <th>edu</th>\n",
       "      <th>edu_spouse</th>\n",
       "      <th>numberChildren</th>\n",
       "      <th>religion</th>\n",
       "      <th>working</th>\n",
       "      <th>spouse_occupation</th>\n",
       "      <th>standardOfLivingIndex</th>\n",
       "      <th>mediaExposure</th>\n",
       "      <th>method</th>\n",
       "    </tr>\n",
       "  </thead>\n",
       "  <tbody>\n",
       "    <tr>\n",
       "      <th>0</th>\n",
       "      <td>1</td>\n",
       "      <td>24</td>\n",
       "      <td>2</td>\n",
       "      <td>3</td>\n",
       "      <td>3</td>\n",
       "      <td>1</td>\n",
       "      <td>1</td>\n",
       "      <td>2</td>\n",
       "      <td>3</td>\n",
       "      <td>0</td>\n",
       "      <td>1</td>\n",
       "    </tr>\n",
       "    <tr>\n",
       "      <th>1</th>\n",
       "      <td>2</td>\n",
       "      <td>45</td>\n",
       "      <td>1</td>\n",
       "      <td>3</td>\n",
       "      <td>10</td>\n",
       "      <td>1</td>\n",
       "      <td>1</td>\n",
       "      <td>3</td>\n",
       "      <td>4</td>\n",
       "      <td>0</td>\n",
       "      <td>1</td>\n",
       "    </tr>\n",
       "    <tr>\n",
       "      <th>2</th>\n",
       "      <td>3</td>\n",
       "      <td>43</td>\n",
       "      <td>2</td>\n",
       "      <td>3</td>\n",
       "      <td>7</td>\n",
       "      <td>1</td>\n",
       "      <td>1</td>\n",
       "      <td>3</td>\n",
       "      <td>4</td>\n",
       "      <td>0</td>\n",
       "      <td>1</td>\n",
       "    </tr>\n",
       "    <tr>\n",
       "      <th>3</th>\n",
       "      <td>4</td>\n",
       "      <td>42</td>\n",
       "      <td>3</td>\n",
       "      <td>2</td>\n",
       "      <td>9</td>\n",
       "      <td>1</td>\n",
       "      <td>1</td>\n",
       "      <td>3</td>\n",
       "      <td>3</td>\n",
       "      <td>0</td>\n",
       "      <td>1</td>\n",
       "    </tr>\n",
       "    <tr>\n",
       "      <th>4</th>\n",
       "      <td>5</td>\n",
       "      <td>36</td>\n",
       "      <td>3</td>\n",
       "      <td>3</td>\n",
       "      <td>8</td>\n",
       "      <td>1</td>\n",
       "      <td>1</td>\n",
       "      <td>3</td>\n",
       "      <td>2</td>\n",
       "      <td>0</td>\n",
       "      <td>1</td>\n",
       "    </tr>\n",
       "  </tbody>\n",
       "</table>\n",
       "</div>"
      ],
      "text/plain": [
       "   Unnamed: 0  age  edu  edu_spouse  numberChildren  religion  working  \\\n",
       "0           1   24    2           3               3         1        1   \n",
       "1           2   45    1           3              10         1        1   \n",
       "2           3   43    2           3               7         1        1   \n",
       "3           4   42    3           2               9         1        1   \n",
       "4           5   36    3           3               8         1        1   \n",
       "\n",
       "   spouse_occupation  standardOfLivingIndex  mediaExposure  method  \n",
       "0                  2                      3              0       1  \n",
       "1                  3                      4              0       1  \n",
       "2                  3                      4              0       1  \n",
       "3                  3                      3              0       1  \n",
       "4                  3                      2              0       1  "
      ]
     },
     "execution_count": 100,
     "metadata": {},
     "output_type": "execute_result"
    }
   ],
   "source": [
    "data = pd.read_csv('./data/contraception_hw.csv')\n",
    "data.head()"
   ]
  },
  {
   "cell_type": "code",
   "execution_count": 101,
   "metadata": {},
   "outputs": [
    {
     "name": "stdout",
     "output_type": "stream",
     "text": [
      "Tabulation of the 'method' variable:\n",
      "method\n",
      "1    629\n",
      "3    511\n",
      "2    333\n",
      "Name: count, dtype: int64\n"
     ]
    }
   ],
   "source": [
    "# Tabulate the 'method' variable\n",
    "method_counts = data['method'].value_counts()\n",
    "print(\"Tabulation of the 'method' variable:\")\n",
    "print(method_counts)"
   ]
  },
  {
   "cell_type": "code",
   "execution_count": 102,
   "metadata": {},
   "outputs": [
    {
     "name": "stdout",
     "output_type": "stream",
     "text": [
      "numberChildren  0    1    2    3   4   5   6   7   8   9   10  11  12  13  16\n",
      "method                                                                       \n",
      "1               95  143  114   70  57  44  35  18  29   5   9   6   4   0   0\n",
      "2                0   46   56   70  62  36  27  19   9   3   2   2   0   1   0\n",
      "3                2   87  106  119  78  55  30  12   9   8   0   3   0   1   1\n",
      "\n",
      "Average number of children for couples with no contraception: 2.934817170111288\n",
      "Average number of children for couples with contraception: 3.504739336492891\n"
     ]
    }
   ],
   "source": [
    "cross_tab = pd.crosstab(data['method'], data['numberChildren'])\n",
    "print(cross_tab)\n",
    "\n",
    "# Analyze whether couples using birth control tend to have more children\n",
    "no_contraception_children = data[data['method'] == 1]['numberChildren']\n",
    "contraception_children = data[data['method'].isin([2, 3])]['numberChildren']\n",
    "\n",
    "print(\"\\nAverage number of children for couples with no contraception:\", no_contraception_children.mean())\n",
    "print(\"Average number of children for couples with contraception:\", contraception_children.mean())"
   ]
  },
  {
   "cell_type": "markdown",
   "metadata": {},
   "source": [
    "Couples that use contraception on average have more children than couples that do not use contraception"
   ]
  },
  {
   "cell_type": "code",
   "execution_count": 103,
   "metadata": {},
   "outputs": [
    {
     "name": "stdout",
     "output_type": "stream",
     "text": [
      "count    1473.000000\n",
      "mean        1.919891\n",
      "std         0.876376\n",
      "min         1.000000\n",
      "25%         1.000000\n",
      "50%         2.000000\n",
      "75%         3.000000\n",
      "max         3.000000\n",
      "Name: method, dtype: float64\n"
     ]
    },
    {
     "data": {
      "text/html": [
       "<div>\n",
       "<style scoped>\n",
       "    .dataframe tbody tr th:only-of-type {\n",
       "        vertical-align: middle;\n",
       "    }\n",
       "\n",
       "    .dataframe tbody tr th {\n",
       "        vertical-align: top;\n",
       "    }\n",
       "\n",
       "    .dataframe thead th {\n",
       "        text-align: right;\n",
       "    }\n",
       "</style>\n",
       "<table border=\"1\" class=\"dataframe\">\n",
       "  <thead>\n",
       "    <tr style=\"text-align: right;\">\n",
       "      <th></th>\n",
       "      <th>Unnamed: 0</th>\n",
       "      <th>age</th>\n",
       "      <th>edu</th>\n",
       "      <th>edu_spouse</th>\n",
       "      <th>numberChildren</th>\n",
       "      <th>religion</th>\n",
       "      <th>working</th>\n",
       "      <th>spouse_occupation</th>\n",
       "      <th>standardOfLivingIndex</th>\n",
       "      <th>mediaExposure</th>\n",
       "    </tr>\n",
       "  </thead>\n",
       "  <tbody>\n",
       "    <tr>\n",
       "      <th>0</th>\n",
       "      <td>1</td>\n",
       "      <td>24</td>\n",
       "      <td>2</td>\n",
       "      <td>3</td>\n",
       "      <td>3</td>\n",
       "      <td>1</td>\n",
       "      <td>1</td>\n",
       "      <td>2</td>\n",
       "      <td>3</td>\n",
       "      <td>0</td>\n",
       "    </tr>\n",
       "    <tr>\n",
       "      <th>1</th>\n",
       "      <td>2</td>\n",
       "      <td>45</td>\n",
       "      <td>1</td>\n",
       "      <td>3</td>\n",
       "      <td>10</td>\n",
       "      <td>1</td>\n",
       "      <td>1</td>\n",
       "      <td>3</td>\n",
       "      <td>4</td>\n",
       "      <td>0</td>\n",
       "    </tr>\n",
       "    <tr>\n",
       "      <th>2</th>\n",
       "      <td>3</td>\n",
       "      <td>43</td>\n",
       "      <td>2</td>\n",
       "      <td>3</td>\n",
       "      <td>7</td>\n",
       "      <td>1</td>\n",
       "      <td>1</td>\n",
       "      <td>3</td>\n",
       "      <td>4</td>\n",
       "      <td>0</td>\n",
       "    </tr>\n",
       "    <tr>\n",
       "      <th>3</th>\n",
       "      <td>4</td>\n",
       "      <td>42</td>\n",
       "      <td>3</td>\n",
       "      <td>2</td>\n",
       "      <td>9</td>\n",
       "      <td>1</td>\n",
       "      <td>1</td>\n",
       "      <td>3</td>\n",
       "      <td>3</td>\n",
       "      <td>0</td>\n",
       "    </tr>\n",
       "    <tr>\n",
       "      <th>4</th>\n",
       "      <td>5</td>\n",
       "      <td>36</td>\n",
       "      <td>3</td>\n",
       "      <td>3</td>\n",
       "      <td>8</td>\n",
       "      <td>1</td>\n",
       "      <td>1</td>\n",
       "      <td>3</td>\n",
       "      <td>2</td>\n",
       "      <td>0</td>\n",
       "    </tr>\n",
       "  </tbody>\n",
       "</table>\n",
       "</div>"
      ],
      "text/plain": [
       "   Unnamed: 0  age  edu  edu_spouse  numberChildren  religion  working  \\\n",
       "0           1   24    2           3               3         1        1   \n",
       "1           2   45    1           3              10         1        1   \n",
       "2           3   43    2           3               7         1        1   \n",
       "3           4   42    3           2               9         1        1   \n",
       "4           5   36    3           3               8         1        1   \n",
       "\n",
       "   spouse_occupation  standardOfLivingIndex  mediaExposure  \n",
       "0                  2                      3              0  \n",
       "1                  3                      4              0  \n",
       "2                  3                      4              0  \n",
       "3                  3                      3              0  \n",
       "4                  3                      2              0  "
      ]
     },
     "execution_count": 103,
     "metadata": {},
     "output_type": "execute_result"
    }
   ],
   "source": [
    "y = data['method']\n",
    "print(y.describe())\n",
    "X = data.drop('method',axis=1)\n",
    "X.head()"
   ]
  },
  {
   "cell_type": "code",
   "execution_count": 104,
   "metadata": {},
   "outputs": [],
   "source": [
    "x_train, x_test, y_train, y_test = train_test_split(X, y, test_size=0.2, random_state=50)\n",
    "TSS = np.sum( (y_test - y_train.mean())**2 )\n",
    "N_test = len(y_test)"
   ]
  },
  {
   "cell_type": "code",
   "execution_count": 105,
   "metadata": {},
   "outputs": [],
   "source": [
    "from sklearn.tree import DecisionTreeRegressor"
   ]
  },
  {
   "cell_type": "code",
   "execution_count": 106,
   "metadata": {},
   "outputs": [
    {
     "name": "stdout",
     "output_type": "stream",
     "text": [
      "Mean Squared Error: 0.003389830508474576\n",
      "Terminal Nodes Values:\n",
      "[[[1.91765705]]\n",
      "\n",
      " [[1.        ]]\n",
      "\n",
      " [[2.27176471]]\n",
      "\n",
      " [[2.61016949]]\n",
      "\n",
      " [[2.        ]]\n",
      "\n",
      " [[3.        ]]\n",
      "\n",
      " [[1.84920635]]\n",
      "\n",
      " [[1.        ]]\n",
      "\n",
      " [[2.62121212]]\n",
      "\n",
      " [[2.        ]]\n",
      "\n",
      " [[3.        ]]]\n"
     ]
    }
   ],
   "source": [
    "# Question 3 \n",
    "\n",
    "# Initialize the regression tree model\n",
    "reg_tree_model = DecisionTreeRegressor()\n",
    "\n",
    "# Fit the model to the training data\n",
    "reg_tree_model.fit(x_train, y_train)\n",
    "\n",
    "# Predict the contraceptive method on the test set\n",
    "y_pred = reg_tree_model.predict(x_test)\n",
    "\n",
    "# Evaluate the model (e.g., using mean squared error)\n",
    "mse = mean_squared_error(y_test, y_pred)\n",
    "print(\"Mean Squared Error:\", mse)\n",
    "\n",
    "# Display the terminal nodes (leaf values) in the tree\n",
    "terminal_nodes_values = reg_tree_model.tree_.value\n",
    "print(\"Terminal Nodes Values:\")\n",
    "print(terminal_nodes_values)"
   ]
  },
  {
   "cell_type": "markdown",
   "metadata": {},
   "source": [
    "This method doesn't make sense because contraceptive methods are categorical (1, 2, or 3), and predicting them as continuous values is inappropriate. The mistake here is using a regression algorithm for a classification problem."
   ]
  },
  {
   "cell_type": "code",
   "execution_count": 107,
   "metadata": {},
   "outputs": [
    {
     "name": "stdout",
     "output_type": "stream",
     "text": [
      "Accuracy: 0.9966101694915255\n",
      "\n",
      "Confusion Matrix:\n",
      "[[121   0   0]\n",
      " [  1  73   0]\n",
      " [  0   0 100]]\n",
      "\n",
      "Classification Report:\n",
      "              precision    recall  f1-score   support\n",
      "\n",
      "           1       0.99      1.00      1.00       121\n",
      "           2       1.00      0.99      0.99        74\n",
      "           3       1.00      1.00      1.00       100\n",
      "\n",
      "    accuracy                           1.00       295\n",
      "   macro avg       1.00      1.00      1.00       295\n",
      "weighted avg       1.00      1.00      1.00       295\n",
      "\n",
      "\n",
      "Feature Importances:\n",
      "{'Unnamed: 0': 1.0, 'age': 0.0, 'edu': 0.0, 'edu_spouse': 0.0, 'numberChildren': 0.0, 'religion': 0.0, 'working': 0.0, 'spouse_occupation': 0.0, 'standardOfLivingIndex': 0.0, 'mediaExposure': 0.0}\n"
     ]
    }
   ],
   "source": [
    "# Question 4 \n",
    "\n",
    "from sklearn.metrics import accuracy_score, classification_report, confusion_matrix\n",
    "from sklearn.tree import DecisionTreeClassifier\n",
    "# Initialize the classification tree model\n",
    "clf_tree_model = DecisionTreeClassifier(random_state=42)\n",
    "\n",
    "# Fit the model to the training data\n",
    "clf_tree_model.fit(x_train, y_train)\n",
    "\n",
    "# Predict the contraceptive method on the test set\n",
    "y_pred = clf_tree_model.predict(x_test)\n",
    "\n",
    "# Evaluate the model\n",
    "accuracy = accuracy_score(y_test, y_pred)\n",
    "print(\"Accuracy:\", accuracy)\n",
    "\n",
    "# Display the confusion matrix and classification report\n",
    "print(\"\\nConfusion Matrix:\")\n",
    "print(confusion_matrix(y_test, y_pred))\n",
    "\n",
    "print(\"\\nClassification Report:\")\n",
    "print(classification_report(y_test, y_pred))\n",
    "\n",
    "# Display the feature importances\n",
    "print(\"\\nFeature Importances:\")\n",
    "print(dict(zip(X.columns, clf_tree_model.feature_importances_)))"
   ]
  },
  {
   "cell_type": "markdown",
   "metadata": {},
   "source": [
    "The structure of the classification tree is different from the regression tree. The nodes will be split based on categorical variables, and the leaf nodes will represent the predicted contraceptive method. The confusion matrix will show how well the model is performing for each contraceptive method.\n",
    "The classification report will provide precision, recall, and F1-score for each class.\n",
    "Feature importances will give you an idea of which variables are most influential in predicting contraceptive methods.\n",
    "The model can be interpreted to understand which groups of people are more likely to use each method of contraception by analyzing the splits and leaf nodes in the tree. "
   ]
  },
  {
   "cell_type": "code",
   "execution_count": 108,
   "metadata": {},
   "outputs": [],
   "source": [
    "# Question 5 "
   ]
  },
  {
   "cell_type": "markdown",
   "metadata": {},
   "source": [
    "Compute a confusion matrix for your classification tree on the test set (Hint: There are now three categories instead of two, so the cross tabulation will be a  3×3\n",
    "  matrix instead of  2×2\n",
    " .). Compute the Accuracy of your model overall, and the Accuracy for predicting each contraceptive method."
   ]
  },
  {
   "cell_type": "code",
   "execution_count": 109,
   "metadata": {},
   "outputs": [
    {
     "name": "stdout",
     "output_type": "stream",
     "text": [
      "Confusion Matrix:\n",
      "[[121   0   0]\n",
      " [  1  73   0]\n",
      " [  0   0 100]]\n",
      "\n",
      "Overall Accuracy: 0.9966101694915255\n",
      "Accuracy for Contraceptive Method 1: 1.0\n",
      "Accuracy for Contraceptive Method 2: 0.9864864864864865\n",
      "Accuracy for Contraceptive Method 3: 1.0\n"
     ]
    }
   ],
   "source": [
    "from sklearn.metrics import confusion_matrix, accuracy_score\n",
    "\n",
    "# Compute the confusion matrix\n",
    "conf_matrix = confusion_matrix(y_test, y_pred)\n",
    "\n",
    "# Print the confusion matrix\n",
    "print(\"Confusion Matrix:\")\n",
    "print(conf_matrix)\n",
    "\n",
    "# Compute overall accuracy\n",
    "overall_accuracy = accuracy_score(y_test, y_pred)\n",
    "print(\"\\nOverall Accuracy:\", overall_accuracy)\n",
    "\n",
    "# Compute accuracy for each contraceptive method\n",
    "method_accuracy = [conf_matrix[i, i] / conf_matrix[i, :].sum() for i in range(conf_matrix.shape[0])]\n",
    "for i, acc in enumerate(method_accuracy):\n",
    "    print(f\"Accuracy for Contraceptive Method {i+1}: {acc}\")"
   ]
  },
  {
   "cell_type": "markdown",
   "metadata": {},
   "source": [
    "## Part 6 "
   ]
  },
  {
   "cell_type": "markdown",
   "metadata": {},
   "source": [
    "We cannot use a linear probability model to this because we are not looking at continuous variables, and this conctraceptive method data does not involve continous variables. "
   ]
  },
  {
   "cell_type": "code",
   "execution_count": null,
   "metadata": {},
   "outputs": [],
   "source": []
  },
  {
   "cell_type": "markdown",
   "metadata": {},
   "source": [
    "**Q4.** This is a question where we use regression and regression trees. The outcome is whether a defendant is held pre-trial in the Virginia justice system. We would like to understand how that outcome is predicted by characteristics of the defendant, particularly race. Let's be very careful/clear: We aren't saying anyone *should* be held without bond or asserting that people with different demographic variables *should* be more likely to be held, but instead trying to predict whether people with different characteristics *are empirically more likely* to be held without bond, given the available information. This is the first step we would take in investigating whether a system is fair, or how large the disparities are: Does it treat people with similar observable characteristics similarly, or not? We are going to look at a common question: Are Black defendants treated differently from white or Asian ones? (There are Native American defendants, but there are 11 in total, which is such a small number of observations that is difficult to clearly say anything about how this group is treated relative to the others.)\n",
    "\n",
    "The variables in the data are:\n",
    "\n",
    "  - `held_wo_bail`: Whether a defendant is held without bail before trial (Boolean logical)\n",
    "  - `race`, `sex`: Categorical demographic variables\n",
    "  - `is_poor`: Whether the defendant is classified as indigent \n",
    "  - `prior_F`, `prior_M`: The number of prior felony and misdemeanor arrests\n",
    "  - `case_type`: A categorical variable indicating a misdemeanor `M` or felony `F` or infraction `I` or special case `S`\n",
    "  - `age`: Defendant's age\n",
    "  - `bond`, `bond_NA`, `bond_type`: The amount of any bond, whether it is missing, and the type\n",
    "  - `sentence`, `sentence_NA`, `sentence_type`: The length of any sentence, whether it is missing, and the type\n",
    "\n",
    "1. Load the `pretrial_data.csv` data. Notice that there are `nan`s, but the data are relatively clean. Because there are `.nan`s among variables you won't use, you'll want to narrow down your analysis to the relevant variables before dropping or imputing missing values.\n",
    "2. Create a dummy variable indicating that the defendant is Black.\n",
    "3. Regress `held` on `Black`. What is the slope coefficient Interpret the coefficient on the Black dummy variable: How much more likely is a black person to be held without bail? What is the $R^2$ of the model?\n",
    "4. Before doing this question, please think for a few minutes about how to make the process of running these regressions as efficient as possible, before jumping into writing code. Repeat part 2, for the following specifications, keeping track of the coefficient on the Black dummy variable each time:\n",
    "      - `held` on `Black` and `sex`\n",
    "      - `held` on `Black` and `sex` and `is_poor`\n",
    "      - `held` on `Black` and `sex` and `is_poor` and `prior_F`\n",
    "      - `held` on `Black` and `sex` and `is_poor` and `prior_F` and `case_type`\n",
    "What happens to the coefficient on the Black dummy variable as you include more regressors/features/controls in the regression? Explain your findings.\n",
    "5. Suppose we don't want to see just `Black` and `sex`, but `Black` interacted with `sex`: Are Black men and Black women treated systemically differently from the rest of the population? Implement this in a regression, and explain your findings.\n",
    "6. Imagine someone argued we should use these kinds of models to help a judge or magistrate make bail decisions (you could obviously go back and make this kind of model for the bond and sentence variables, then deploy it on new cases to predict what their bond and sentence values would be). What concerns would you have? Do you think society should be using data-driven and automated tools like that? Explain your concerns clearly."
   ]
  },
  {
   "cell_type": "markdown",
   "metadata": {},
   "source": [
    "**Q5.** This is a math question to review the derivation of the OLS estimator (but only if you are into that kind of thing!). We are going to do it slightly differently from what we did in class, though. We will use a linear predictor and minimize the Sum of Squared Errors, just as in class. But, we are going to de-mean $X$ first, creating another variable $z_i = x_i - \\bar{x}$ where \n",
    "$$\n",
    "\\bar{x} = \\dfrac{1}{N} \\sum_{i=1}^N x_i,\n",
    "$$\n",
    "so the model is $\\hat{y}_i = a + b z_i$ and the `SSE` is\n",
    "$$\n",
    "\\text{SSE}(a,b) = \\sum_{i=1}^N (y_i - a - bz_i)^2.\n",
    "$$\n",
    "\n",
    "  1. Take partial derivatives of the `SSE` with respect to $a$ and $b$. You should get\n",
    "\n",
    "\\begin{eqnarray*}\n",
    "\\sum_{i=1}^N -2(y_i - a- bz_i) &=& 0 \\\\\n",
    "\\sum_{i=1}^N -2(y_i - a - bz_i)z_i &=& 0.\n",
    "\\end{eqnarray*}\n",
    "\n",
    "  2. Solve for the solutions to the above equations. Big hint: $\\bar{z} = 0$, since we subtracted the mean of $x$ from $x$ to get $z$. You should get\n",
    "\n",
    "\\begin{eqnarray*}\n",
    "a^* &=& \\bar{y} \\\\\n",
    "b^* &=& \\dfrac{\\sum_{i=1}^N(y_i - \\bar{y})z_i}{\\sum_{i=1}^N z_i^2}.\n",
    "\\end{eqnarray*}\n",
    "\n",
    "  3. Substitute $z_i = x_i - \\bar{x}$ back into the above equations. You should get\n",
    "  \n",
    "\\begin{eqnarray*}\n",
    "a^* &=& \\bar{y} \\\\\n",
    "b^* &=& \\dfrac{\\sum_{i=1}^N(y_i - \\bar{y})(x_i-\\bar{x})}{\\sum_{i=1}^N (x_i-\\bar{x})^2},\n",
    "\\end{eqnarray*}\n",
    "\n",
    "which can be written in terms of sample covariance and sample variance as:\n",
    "\n",
    "\\begin{eqnarray*}\n",
    "a^* &=& \\bar{y} \\\\\n",
    "b^* &=& \\dfrac{\\text{cov}(x,y)}{\\text{var}(x)}.\n",
    "\\end{eqnarray*}\n",
    "\n",
    "This is typically the preferred way of expressing the OLS coefficients.\n",
    "\n",
    "4. When will $b^*$ be large or small, depending on the relationship between $x$ and $y$ and the amount of \"noise\"/variance in $x$? What does $a^*$ represent?\n",
    "5. Suppose you have measurement error in $x$ which artificially inflates its variance (e.g. bad data cleaning). What happens to the $b^*$ coefficient? How will affect your ability to predict? (This phenomenon is called **attenuation**.)\n",
    "6. Let's return to the question of *outliers*. With your formula for the OLS coefficients $(a^*,b^*)$, explain what happens if you significantly increase a single value of the outcome/target/response variable $y_i$ or one of the predictor/explanatory/covariate variables $x_i$. If values for some extreme observations are exerting significant influence over the regression coefficients, will the model perform well on for more average observations?"
   ]
  }
 ],
 "metadata": {
  "kernelspec": {
   "display_name": "Python 3",
   "language": "python",
   "name": "python3"
  },
  "language_info": {
   "codemirror_mode": {
    "name": "ipython",
    "version": 3
   },
   "file_extension": ".py",
   "mimetype": "text/x-python",
   "name": "python",
   "nbconvert_exporter": "python",
   "pygments_lexer": "ipython3",
   "version": "3.8.8"
  }
 },
 "nbformat": 4,
 "nbformat_minor": 5
}
